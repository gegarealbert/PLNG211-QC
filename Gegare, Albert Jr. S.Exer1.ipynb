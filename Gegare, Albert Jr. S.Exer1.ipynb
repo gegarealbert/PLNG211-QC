{
  "nbformat": 4,
  "nbformat_minor": 0,
  "metadata": {
    "colab": {
      "provenance": [],
      "authorship_tag": "ABX9TyMgvflxp81/TstPs6EjnrUS",
      "include_colab_link": true
    },
    "kernelspec": {
      "name": "python3",
      "display_name": "Python 3"
    },
    "language_info": {
      "name": "python"
    }
  },
  "cells": [
    {
      "cell_type": "markdown",
      "metadata": {
        "id": "view-in-github",
        "colab_type": "text"
      },
      "source": [
        "<a href=\"https://colab.research.google.com/github/gegarealbert/PLNG211-QC/blob/main/Gegare%2C%20Albert%20Jr.%20S.Exer1.ipynb\" target=\"_parent\"><img src=\"https://colab.research.google.com/assets/colab-badge.svg\" alt=\"Open In Colab\"/></a>"
      ]
    },
    {
      "cell_type": "code",
      "execution_count": 56,
      "metadata": {
        "colab": {
          "base_uri": "https://localhost:8080/"
        },
        "id": "ysUiU33yGMc4",
        "outputId": "09c461d3-1846-4879-ab4e-e6777ff50c4c"
      },
      "outputs": [
        {
          "output_type": "stream",
          "name": "stdout",
          "text": [
            "array('i', [26, 49, 98, 87, 62, 75]) \n",
            "Even List\n",
            "i = 26\n",
            "i = 98\n",
            "i = 62\n"
          ]
        }
      ],
      "source": [
        "#Exer1\n",
        "from array import *\n",
        "num= array('i',[26,49,98,87,62,75])\n",
        "print(num, \"\\nEven List\")\n",
        "for x in num:\n",
        "  if x %2 ==0:\n",
        "    print('i =',x)"
      ]
    }
  ]
}