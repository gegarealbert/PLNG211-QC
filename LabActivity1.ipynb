{
  "nbformat": 4,
  "nbformat_minor": 0,
  "metadata": {
    "colab": {
      "provenance": [],
      "authorship_tag": "ABX9TyM5v6rNBiWv8Gafu++j/kj/",
      "include_colab_link": true
    },
    "kernelspec": {
      "name": "python3",
      "display_name": "Python 3"
    },
    "language_info": {
      "name": "python"
    }
  },
  "cells": [
    {
      "cell_type": "markdown",
      "metadata": {
        "id": "view-in-github",
        "colab_type": "text"
      },
      "source": [
        "<a href=\"https://colab.research.google.com/github/gegarealbert/PLNG211-QC/blob/main/LabActivity1.ipynb\" target=\"_parent\"><img src=\"https://colab.research.google.com/assets/colab-badge.svg\" alt=\"Open In Colab\"/></a>"
      ]
    },
    {
      "cell_type": "code",
      "execution_count": null,
      "metadata": {
        "colab": {
          "base_uri": "https://localhost:8080/"
        },
        "id": "7teduPJeVaOB",
        "outputId": "74e70d9d-7243-4c72-baf8-686ea31062d3"
      },
      "outputs": [
        {
          "output_type": "stream",
          "name": "stdout",
          "text": [
            "Enter the size of the array: 10\n",
            "Enter array elements: \n",
            "1\n",
            "2\n",
            "3\n",
            "4\n",
            "5\n",
            "6\n",
            "7\n",
            "8\n",
            "9\n",
            "0\n",
            "[1, 2, 3, 4, 5, 6, 7, 8, 9, 0]\n",
            "Sum: 45\n"
          ]
        }
      ],
      "source": [
        "#Sum\n",
        "\n",
        "lst = []\n",
        "num = int(input(\"Enter the size of the array: \"))\n",
        "print(\"Enter array elements: \")\n",
        "for n in range(num):\n",
        "  numbers = int(input())\n",
        "  lst.append(n1umbers)\n",
        "print(lst)\n",
        "print(\"Sum:\", sum(lst))"
      ]
    },
    {
      "cell_type": "code",
      "source": [
        "#Append Array\n",
        "num = [1,2,3,4,5,6,7,8,9,10]\n",
        "print(\"Original Array list \\n\", num)\n",
        "arr =[ 12,15,14,71]     #Appen\n",
        "num.append(12) #one argument\n",
        "num.append(arr)\n",
        "print(num)\n",
        "print(num)"
      ],
      "metadata": {
        "colab": {
          "base_uri": "https://localhost:8080/"
        },
        "id": "8V5UG_CfZxLX",
        "outputId": "8f7bdf24-bde6-4d29-b93b-41ca96ed7cab"
      },
      "execution_count": null,
      "outputs": [
        {
          "output_type": "stream",
          "name": "stdout",
          "text": [
            "Original Array list \n",
            " [1, 2, 3, 4, 5, 6, 7, 8, 9, 10]\n",
            "[1, 2, 3, 4, 5, 6, 7, 8, 9, 10, 12, [12, 15, 14, 71]]\n",
            "[1, 2, 3, 4, 5, 6, 7, 8, 9, 10, 12, [12, 15, 14, 71]]\n"
          ]
        }
      ]
    },
    {
      "cell_type": "code",
      "source": [
        "#Insert\n",
        "nums = [1,2,3,4,5,6,7,8,9,10]\n",
        "print(\"Original Array list\\n\", nums)\n",
        "nums.insert(5,3)\n",
        "print(nums)"
      ],
      "metadata": {
        "colab": {
          "base_uri": "https://localhost:8080/"
        },
        "id": "z3XVV02Qc0xG",
        "outputId": "e3dc7f91-53ab-4bbf-a717-d082a819b0b7"
      },
      "execution_count": null,
      "outputs": [
        {
          "output_type": "stream",
          "name": "stdout",
          "text": [
            "Original Array list\n",
            " [1, 2, 3, 4, 5, 6, 7, 8, 9, 10]\n",
            "[1, 2, 3, 4, 5, 3, 6, 7, 8, 9, 10]\n"
          ]
        }
      ]
    },
    {
      "cell_type": "code",
      "source": [
        "#Reverse & Lenght\n",
        "nums = [5,4,3,2,1]\n",
        "print(\"Original Array list\\n\", nums)\n",
        "nums.reverse()\n",
        "print(\"Reverse\\n\",nums)\n",
        "x =len(nums)\n",
        "print(\"Length of array\\n\",x)"
      ],
      "metadata": {
        "colab": {
          "base_uri": "https://localhost:8080/"
        },
        "id": "FEuWjwYxeZCm",
        "outputId": "64ef070b-800e-4daa-a928-dca90ef7515b"
      },
      "execution_count": null,
      "outputs": [
        {
          "output_type": "stream",
          "name": "stdout",
          "text": [
            "Original Array list\n",
            " [5, 4, 3, 2, 1]\n",
            "Reverse\n",
            " [1, 2, 3, 4, 5]\n",
            "Length of array\n",
            " 5\n"
          ]
        }
      ]
    },
    {
      "cell_type": "code",
      "source": [],
      "metadata": {
        "id": "XFLfeK-8evP1"
      },
      "execution_count": null,
      "outputs": []
    }
  ]
}