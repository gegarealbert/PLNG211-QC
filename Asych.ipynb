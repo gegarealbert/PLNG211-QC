{
  "nbformat": 4,
  "nbformat_minor": 0,
  "metadata": {
    "colab": {
      "provenance": [],
      "authorship_tag": "ABX9TyPCCWG0984iKs0Nbrte8a0v",
      "include_colab_link": true
    },
    "kernelspec": {
      "name": "python3",
      "display_name": "Python 3"
    },
    "language_info": {
      "name": "python"
    }
  },
  "cells": [
    {
      "cell_type": "markdown",
      "metadata": {
        "id": "view-in-github",
        "colab_type": "text"
      },
      "source": [
        "<a href=\"https://colab.research.google.com/github/gegarealbert/PLNG211-QC/blob/main/Asych.ipynb\" target=\"_parent\"><img src=\"https://colab.research.google.com/assets/colab-badge.svg\" alt=\"Open In Colab\"/></a>"
      ]
    },
    {
      "cell_type": "markdown",
      "source": [
        "Asynchornous Activity\n"
      ],
      "metadata": {
        "id": "Rrc1RJ8tNV0u"
      }
    },
    {
      "cell_type": "code",
      "source": [
        "Salary_rate =600\n",
        "Salary = Salary_rate *15\n",
        "Tax_amount =0.3* Salary_rate\n",
        "Net_pay = Salary - Tax_amount\n",
        "\n",
        "print(\"*****Salary Computation*****\\n\")\n",
        "print(\"Salary Rate per Day: \", Salary_rate)\n",
        "print(\"Salary: \", Salary)\n",
        "print(\"Taxable Amount: \", Tax_amount)\n",
        "print(\"The Net pay is: \",Net_pay)"
      ],
      "metadata": {
        "colab": {
          "base_uri": "https://localhost:8080/"
        },
        "id": "EK88M9ZRNamF",
        "outputId": "39d5c1e5-ada3-4a02-d0d2-19e2cc6c7553"
      },
      "execution_count": 1,
      "outputs": [
        {
          "output_type": "stream",
          "name": "stdout",
          "text": [
            "*****Salary Computation*****\n",
            "\n",
            "Salary Rate per Day:  600\n",
            "Salary:  9000\n",
            "Taxable Amount:  180.0\n",
            "The Net pay is:  8820.0\n"
          ]
        }
      ]
    }
  ]
}