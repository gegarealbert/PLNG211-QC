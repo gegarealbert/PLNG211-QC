{
  "nbformat": 4,
  "nbformat_minor": 0,
  "metadata": {
    "colab": {
      "provenance": [],
      "authorship_tag": "ABX9TyPRnQnjJCVIBANsiX1P/isT",
      "include_colab_link": true
    },
    "kernelspec": {
      "name": "python3",
      "display_name": "Python 3"
    },
    "language_info": {
      "name": "python"
    }
  },
  "cells": [
    {
      "cell_type": "markdown",
      "metadata": {
        "id": "view-in-github",
        "colab_type": "text"
      },
      "source": [
        "<a href=\"https://colab.research.google.com/github/gegarealbert/PLNG211-QC/blob/main/Introduction_to_Python.ipynb\" target=\"_parent\"><img src=\"https://colab.research.google.com/assets/colab-badge.svg\" alt=\"Open In Colab\"/></a>"
      ]
    },
    {
      "cell_type": "code",
      "execution_count": 36,
      "metadata": {
        "colab": {
          "base_uri": "https://localhost:8080/"
        },
        "id": "23RLBB9opzD7",
        "outputId": "7d1a5d35-64f8-4e64-f97b-9228499d2902"
      },
      "outputs": [
        {
          "output_type": "stream",
          "name": "stdout",
          "text": [
            "5 is greater than 2\n",
            "4 5 6\n",
            "python is enjoying\n",
            "7\n",
            "2\n"
          ]
        },
        {
          "output_type": "execute_result",
          "data": {
            "text/plain": [
              "True"
            ]
          },
          "metadata": {},
          "execution_count": 36
        }
      ],
      "source": [
        "#Python indentation example\n",
        "if 5>2:\n",
        "  print(\"5 is greater than 2\")\n",
        "#Python Variables\n",
        "x,y,z = 4,5,6\n",
        "print(x,y,z)\n",
        "s = \"python is \"\n",
        "t = \"enjoying\"\n",
        "print(s + t)\n",
        "#Multiple Variables\n",
        "a = 2\n",
        "b = 5\n",
        "print(a + b)\n",
        "e = 1\n",
        "e+= 1\n",
        "print(e)\n",
        "d =5\n",
        "f =6\n",
        "f > d and d==d"
      ]
    }
  ]
}