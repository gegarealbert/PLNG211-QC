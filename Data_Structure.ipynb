{
  "nbformat": 4,
  "nbformat_minor": 0,
  "metadata": {
    "colab": {
      "provenance": [],
      "authorship_tag": "ABX9TyOLTPx8Es5BH5vGRWmQmIRj",
      "include_colab_link": true
    },
    "kernelspec": {
      "name": "python3",
      "display_name": "Python 3"
    },
    "language_info": {
      "name": "python"
    }
  },
  "cells": [
    {
      "cell_type": "markdown",
      "metadata": {
        "id": "view-in-github",
        "colab_type": "text"
      },
      "source": [
        "<a href=\"https://colab.research.google.com/github/gegarealbert/PLNG211-QC/blob/main/Data_Structure.ipynb\" target=\"_parent\"><img src=\"https://colab.research.google.com/assets/colab-badge.svg\" alt=\"Open In Colab\"/></a>"
      ]
    },
    {
      "cell_type": "code",
      "execution_count": 11,
      "metadata": {
        "colab": {
          "base_uri": "https://localhost:8080/"
        },
        "id": "3lDJYATB3EKm",
        "outputId": "97e7ee35-66be-4852-ea7b-d575317e9728"
      },
      "outputs": [
        {
          "output_type": "stream",
          "name": "stdout",
          "text": [
            "dog\n",
            "monkey\n",
            "['monkey', 'dog', 'fish']\n",
            "3\n"
          ]
        }
      ],
      "source": [
        "#Accessing & Modify the elements in the array\n",
        "animals =[\"cat\", \"dog\", \"fish\"]\n",
        "x =animals[0] =\"monkey\"\n",
        "print(animals[1])\n",
        "print(x)\n",
        "print(animals)"
      ]
    },
    {
      "cell_type": "code",
      "source": [
        "#Length of the array & Loop\n",
        "animals =[\"cat\", \"dog\", \"fish\"]\n",
        "x =len(animals)\n",
        "print(x)\n",
        "\n",
        "for x in animals:\n",
        "  print(x)"
      ],
      "metadata": {
        "colab": {
          "base_uri": "https://localhost:8080/"
        },
        "id": "tDWkeKrd7Nzc",
        "outputId": "651071a6-44c2-42f2-8403-5d6d46382e1d"
      },
      "execution_count": 17,
      "outputs": [
        {
          "output_type": "stream",
          "name": "stdout",
          "text": [
            "3\n",
            "cat\n",
            "dog\n",
            "fish\n"
          ]
        }
      ]
    },
    {
      "cell_type": "code",
      "source": [
        "#Adding &Insert Elements\n",
        "animals =[\"cat\", \"dog\", \"fish\"]\n",
        "animals.insert(1,'monkey')\n",
        "print(animals)\n",
        "animals.append('cow')\n",
        "print(animals)\n",
        "animals.reverse()\n",
        "print(animals)\n"
      ],
      "metadata": {
        "colab": {
          "base_uri": "https://localhost:8080/",
          "height": 87
        },
        "id": "CZnrbFkl7wkL",
        "outputId": "efaf3764-6c78-424f-fb27-a29be65fbcf2"
      },
      "execution_count": 51,
      "outputs": [
        {
          "output_type": "stream",
          "name": "stdout",
          "text": [
            "['cat', 'monkey', 'dog', 'fish']\n",
            "['cat', 'monkey', 'dog', 'fish', 'cow']\n",
            "['cow', 'fish', 'dog', 'monkey', 'cat']\n"
          ]
        },
        {
          "output_type": "execute_result",
          "data": {
            "text/plain": [
              "'fish'"
            ],
            "application/vnd.google.colaboratory.intrinsic+json": {
              "type": "string"
            }
          },
          "metadata": {},
          "execution_count": 51
        }
      ]
    },
    {
      "cell_type": "code",
      "source": [
        "#Reverse & Remove\n",
        "animals =[\"cat\", \"dog\", \"fish\"]\n",
        "animals.reverse()\n",
        "print(animals)\n",
        "animals.pop(1)\n",
        "print(animals)"
      ],
      "metadata": {
        "colab": {
          "base_uri": "https://localhost:8080/"
        },
        "id": "4yhgUr_lA0SY",
        "outputId": "8700b013-3fe4-4203-b8aa-98018a4a3ee0"
      },
      "execution_count": 66,
      "outputs": [
        {
          "output_type": "stream",
          "name": "stdout",
          "text": [
            "['fish', 'dog', 'cat']\n",
            "['fish', 'cat']\n"
          ]
        }
      ]
    },
    {
      "cell_type": "code",
      "source": [
        "import array as arr\n",
        "a = arr.array('i',[1,2,3])\n",
        "print(a)\n",
        "a.typecode"
      ],
      "metadata": {
        "colab": {
          "base_uri": "https://localhost:8080/",
          "height": 53
        },
        "id": "bbjMlQn_A0L4",
        "outputId": "bd228997-4d64-4de8-82fd-500bb8121f1e"
      },
      "execution_count": 69,
      "outputs": [
        {
          "output_type": "stream",
          "name": "stdout",
          "text": [
            "array('i', [1, 2, 3])\n"
          ]
        },
        {
          "output_type": "execute_result",
          "data": {
            "text/plain": [
              "'i'"
            ],
            "application/vnd.google.colaboratory.intrinsic+json": {
              "type": "string"
            }
          },
          "metadata": {},
          "execution_count": 69
        }
      ]
    },
    {
      "cell_type": "code",
      "source": [
        "from array import *\n",
        "a = array('i',[1,2,3])\n",
        "a.itemsize\n",
        "a.append(4)\n",
        "print(a)\n",
        "a.byteswap()\n",
        "print(a)"
      ],
      "metadata": {
        "colab": {
          "base_uri": "https://localhost:8080/"
        },
        "id": "OryAa6mvCcZt",
        "outputId": "017ae6e3-f580-4951-b357-cad279bb05b3"
      },
      "execution_count": 77,
      "outputs": [
        {
          "output_type": "stream",
          "name": "stdout",
          "text": [
            "array('i', [1, 2, 3, 4])\n",
            "array('i', [16777216, 33554432, 50331648, 67108864])\n"
          ]
        }
      ]
    },
    {
      "cell_type": "code",
      "source": [
        "from array import *\n",
        "a = array('i',[1,2,3,3])\n",
        "a.count(3)\n",
        "a.insert(1,4)\n",
        "print(a)"
      ],
      "metadata": {
        "colab": {
          "base_uri": "https://localhost:8080/"
        },
        "id": "Vn3JNs8FEf2W",
        "outputId": "5045c887-a579-44bf-c46f-c0e24c372f74"
      },
      "execution_count": 84,
      "outputs": [
        {
          "output_type": "stream",
          "name": "stdout",
          "text": [
            "array('i', [1, 4, 2, 3, 3])\n"
          ]
        }
      ]
    }
  ]
}