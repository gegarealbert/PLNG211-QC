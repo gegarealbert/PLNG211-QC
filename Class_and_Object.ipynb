{
  "nbformat": 4,
  "nbformat_minor": 0,
  "metadata": {
    "colab": {
      "provenance": [],
      "authorship_tag": "ABX9TyMbnu6sK4silQc6YqPR6NxY",
      "include_colab_link": true
    },
    "kernelspec": {
      "name": "python3",
      "display_name": "Python 3"
    },
    "language_info": {
      "name": "python"
    }
  },
  "cells": [
    {
      "cell_type": "markdown",
      "metadata": {
        "id": "view-in-github",
        "colab_type": "text"
      },
      "source": [
        "<a href=\"https://colab.research.google.com/github/gegarealbert/PLNG211-QC/blob/main/Class_and_Object.ipynb\" target=\"_parent\"><img src=\"https://colab.research.google.com/assets/colab-badge.svg\" alt=\"Open In Colab\"/></a>"
      ]
    },
    {
      "cell_type": "code",
      "source": [],
      "metadata": {
        "colab": {
          "base_uri": "https://localhost:8080/",
          "height": 130
        },
        "id": "N0prnyiefcro",
        "outputId": "70b7ae61-7781-44b2-9486-2b6b72deaed8"
      },
      "execution_count": 72,
      "outputs": [
        {
          "output_type": "error",
          "ename": "IndentationError",
          "evalue": "ignored",
          "traceback": [
            "\u001b[0;36m  File \u001b[0;32m\"<ipython-input-72-14966bd5ba1f>\"\u001b[0;36m, line \u001b[0;32m9\u001b[0m\n\u001b[0;31m    l =int(input(\"Enter Length: \"))\u001b[0m\n\u001b[0m                                   ^\u001b[0m\n\u001b[0;31mIndentationError\u001b[0m\u001b[0;31m:\u001b[0m expected an indented block\n"
          ]
        }
      ]
    },
    {
      "cell_type": "code",
      "source": [
        "class Person:\n",
        "  def __init__(self,name,age):\n",
        "    self.name = name                #attributes\n",
        "    self.age = age\n",
        "\n",
        "class Student(Person):\n",
        "  pass\n",
        "\n",
        "class Teacher(Person):\n",
        "  pass\n",
        "person1 = Person(\"Ana\",36)         #instantiation/add a value to an attribute\n",
        "print(\"The name of the person is:\",person1.name)\n",
        "print(\"The age of the person is:\",person1.age)\n",
        "\n",
        "person2 = Student(\"Lino\", 32)\n",
        "print(person2.name)\n",
        "print(person2.age)\n",
        "\n",
        "person3 = Teacher(\"Maria\", 39)\n",
        "print(person3.name)\n",
        "print(person3.age)"
      ],
      "metadata": {
        "colab": {
          "base_uri": "https://localhost:8080/"
        },
        "id": "4iY9d0wYT0cc",
        "outputId": "21625f98-5c04-4546-a6b5-44f3efbb244d"
      },
      "execution_count": 20,
      "outputs": [
        {
          "output_type": "stream",
          "name": "stdout",
          "text": [
            "The name of the person is: Ana\n",
            "The age of the person is: 36\n",
            "Lino\n",
            "32\n",
            "Maria\n",
            "39\n"
          ]
        }
      ]
    },
    {
      "cell_type": "code",
      "source": [
        "#Modifying\n",
        "person2.age =30\n",
        "print(person2.age)\n",
        "print(\"The name and age of the student is:\",person2.name,person2.age)\n",
        "print(\"The student \" + person2.name + \" is\",str(person2.age))"
      ],
      "metadata": {
        "colab": {
          "base_uri": "https://localhost:8080/"
        },
        "id": "zMSCrYsWVnf-",
        "outputId": "c3067b34-5099-45e0-8173-20338444696f"
      },
      "execution_count": 32,
      "outputs": [
        {
          "output_type": "stream",
          "name": "stdout",
          "text": [
            "30\n",
            "The name and age of the student is: Lino 30\n",
            "The student Lino is 30\n"
          ]
        }
      ]
    },
    {
      "cell_type": "code",
      "source": [
        "#Deleting\n",
        "print(person3.name)\n",
        "del person3.age\n",
        "print(person3.age)\n"
      ],
      "metadata": {
        "colab": {
          "base_uri": "https://localhost:8080/",
          "height": 235
        },
        "id": "6qW3U9o1Xlmi",
        "outputId": "eb3d2421-5f8c-4fae-bbb0-713b26bd8415"
      },
      "execution_count": 35,
      "outputs": [
        {
          "output_type": "stream",
          "name": "stdout",
          "text": [
            "Maria\n"
          ]
        },
        {
          "output_type": "error",
          "ename": "AttributeError",
          "evalue": "ignored",
          "traceback": [
            "\u001b[0;31m---------------------------------------------------------------------------\u001b[0m",
            "\u001b[0;31mAttributeError\u001b[0m                            Traceback (most recent call last)",
            "\u001b[0;32m<ipython-input-35-896adedc84b7>\u001b[0m in \u001b[0;36m<module>\u001b[0;34m\u001b[0m\n\u001b[1;32m      1\u001b[0m \u001b[0;31m#Deleting\u001b[0m\u001b[0;34m\u001b[0m\u001b[0;34m\u001b[0m\u001b[0;34m\u001b[0m\u001b[0m\n\u001b[1;32m      2\u001b[0m \u001b[0mprint\u001b[0m\u001b[0;34m(\u001b[0m\u001b[0mperson3\u001b[0m\u001b[0;34m.\u001b[0m\u001b[0mname\u001b[0m\u001b[0;34m)\u001b[0m\u001b[0;34m\u001b[0m\u001b[0;34m\u001b[0m\u001b[0m\n\u001b[0;32m----> 3\u001b[0;31m \u001b[0;32mdel\u001b[0m \u001b[0mperson3\u001b[0m\u001b[0;34m.\u001b[0m\u001b[0mage\u001b[0m\u001b[0;34m\u001b[0m\u001b[0;34m\u001b[0m\u001b[0m\n\u001b[0m\u001b[1;32m      4\u001b[0m \u001b[0mprint\u001b[0m\u001b[0;34m(\u001b[0m\u001b[0mperson3\u001b[0m\u001b[0;34m.\u001b[0m\u001b[0mage\u001b[0m\u001b[0;34m)\u001b[0m\u001b[0;34m\u001b[0m\u001b[0;34m\u001b[0m\u001b[0m\n",
            "\u001b[0;31mAttributeError\u001b[0m: age"
          ]
        }
      ]
    },
    {
      "cell_type": "code",
      "source": [
        "#Application 1 Write a rectangle class in Python language with length and width as attributes\n",
        "#Create a Perimeter () and Area () as methods to compute for the perimeter and area of a rectangle\n",
        "class Rectangle:\n",
        "  def __init__(self, length, width):\n",
        "    self.length = length\n",
        "    self.width = width\n",
        "  def Area(self):\n",
        "    return self.length * self.width\n",
        "\n",
        "print(\"Find the area and perimeter of a Rectangle\")\n",
        "l =int(input(\"Enter Length: \"))\n",
        "w =int(input(\"Enter Width: \"))\n",
        "obj = Rectangle(l,w)\n",
        "print(\"Area of Rectangle: \",obj.Area())"
      ],
      "metadata": {
        "colab": {
          "base_uri": "https://localhost:8080/"
        },
        "id": "4qcgqEp7ngNB",
        "outputId": "d4fe48aa-1fa6-442e-c7f4-e44ed74fb1df"
      },
      "execution_count": 77,
      "outputs": [
        {
          "output_type": "stream",
          "name": "stdout",
          "text": [
            "Find the area and perimeter of a Rectangle\n",
            "Enter Length: 2\n",
            "Enter Width: 2\n",
            "Area of Rectangle:  4\n"
          ]
        }
      ]
    }
  ]
}