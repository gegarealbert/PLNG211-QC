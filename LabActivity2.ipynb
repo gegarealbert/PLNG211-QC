{
  "nbformat": 4,
  "nbformat_minor": 0,
  "metadata": {
    "colab": {
      "provenance": [],
      "authorship_tag": "ABX9TyPFfVwX7d1JqzKpZpTJ1jHc",
      "include_colab_link": true
    },
    "kernelspec": {
      "name": "python3",
      "display_name": "Python 3"
    },
    "language_info": {
      "name": "python"
    }
  },
  "cells": [
    {
      "cell_type": "markdown",
      "metadata": {
        "id": "view-in-github",
        "colab_type": "text"
      },
      "source": [
        "<a href=\"https://colab.research.google.com/github/gegarealbert/PLNG211-QC/blob/main/LabActivity2.ipynb\" target=\"_parent\"><img src=\"https://colab.research.google.com/assets/colab-badge.svg\" alt=\"Open In Colab\"/></a>"
      ]
    },
    {
      "cell_type": "code",
      "execution_count": 1,
      "metadata": {
        "colab": {
          "base_uri": "https://localhost:8080/"
        },
        "id": "gDlaFclRgOZ8",
        "outputId": "a20b5b5c-14a5-4465-9c36-fca7ba5ab475"
      },
      "outputs": [
        {
          "output_type": "stream",
          "name": "stdout",
          "text": [
            "sum = 210\n",
            "Average =  10.5\n"
          ]
        }
      ],
      "source": [
        "n = 20\n",
        "\n",
        "total_numbers = n\n",
        "\n",
        "sum = 0\n",
        "\n",
        "while n >= 0:\n",
        "\n",
        "  sum += n\n",
        "\n",
        "  n -= 1\n",
        "\n",
        "print(\"sum =\", sum)\n",
        "\n",
        "\n",
        "\n",
        "average = sum / total_numbers\n",
        "\n",
        "print(\"Average = \", average)\n"
      ]
    },
    {
      "cell_type": "code",
      "source": [
        "#OOP\n",
        "class Student:\n",
        "  def __init__(self,name,age,stnumber,course):\n",
        "    self.name = name                #attributes\n",
        "    self.age = age\n",
        "    self.stnumber = stnumber\n",
        "    self.course = course\n",
        "class Myself(Student):\n",
        "  pass\n",
        "student1 = Student(\"Albert S. Gegare Jr.\",24, '0218-10363-152', \"BSCS\")         #instantiation/add a value to an attribute\n",
        "print(\"Student Name:\",student1.name)\n",
        "print(\"Student Age:\",student1.age)\n",
        "print(\"Student Number:\",student1.stnumber)\n",
        "print(\"Student Course:\",student1.course)\n",
        "\n",
        "student2 =Myself(\"Axel\", 21, \"BSME\", '12434')\n",
        "print(\"Name: \", student2.name)\n",
        "print(\"Age: \", student2.age)\n",
        "print(\"Course: \", student2.course)\n",
        "print(\"Student No.: \", student2.stnumber)"
      ],
      "metadata": {
        "colab": {
          "base_uri": "https://localhost:8080/"
        },
        "id": "HbArHHEyhSTV",
        "outputId": "7d90aee2-e52c-4444-d44c-b4845593d8ec"
      },
      "execution_count": 17,
      "outputs": [
        {
          "output_type": "stream",
          "name": "stdout",
          "text": [
            "Student Name: Albert S. Gegare Jr.\n",
            "Student Age: 24\n",
            "Student Number: 0218-10363-152\n",
            "Student Course: BSCS\n",
            "Name:  Axel\n",
            "Age:  21\n",
            "Course:  12434\n",
            "Student No.:  BSME\n"
          ]
        }
      ]
    }
  ]
}