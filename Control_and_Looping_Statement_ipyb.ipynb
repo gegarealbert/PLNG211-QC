{
  "nbformat": 4,
  "nbformat_minor": 0,
  "metadata": {
    "colab": {
      "provenance": [],
      "authorship_tag": "ABX9TyP7SUlTlMLJCnnK0viHNXSk",
      "include_colab_link": true
    },
    "kernelspec": {
      "name": "python3",
      "display_name": "Python 3"
    },
    "language_info": {
      "name": "python"
    }
  },
  "cells": [
    {
      "cell_type": "markdown",
      "metadata": {
        "id": "view-in-github",
        "colab_type": "text"
      },
      "source": [
        "<a href=\"https://colab.research.google.com/github/gegarealbert/PLNG211-QC/blob/main/Control_and_Looping_Statement_ipyb.ipynb\" target=\"_parent\"><img src=\"https://colab.research.google.com/assets/colab-badge.svg\" alt=\"Open In Colab\"/></a>"
      ]
    },
    {
      "cell_type": "markdown",
      "source": [
        "If else statement\n"
      ],
      "metadata": {
        "id": "_w98MuMj2_Xe"
      }
    },
    {
      "cell_type": "code",
      "source": [
        "a = 100\n",
        "b = 100\n",
        "\n",
        "if a > b:\n",
        "  print(\"A is greater than B\")\n",
        "\n",
        "elif a < b:\n",
        "  print(\"B is greater than A\")\n",
        "\n",
        "  \n",
        "else: \n",
        "     print('B is equal than A')\n"
      ],
      "metadata": {
        "colab": {
          "base_uri": "https://localhost:8080/"
        },
        "id": "O60mRu883Bn-",
        "outputId": "0dc604a1-9631-4555-f694-3897440b9d3c"
      },
      "execution_count": 17,
      "outputs": [
        {
          "output_type": "stream",
          "name": "stdout",
          "text": [
            "B is equal than A\n"
          ]
        }
      ]
    },
    {
      "cell_type": "code",
      "source": [
        "#ShortHand If Else Statement\n",
        "\n",
        "c = 20\n",
        "d = 35\n",
        "\n",
        "if d>c: print(\"d>c\")\n",
        "print(c>d) if c>d else print(d>c)"
      ],
      "metadata": {
        "colab": {
          "base_uri": "https://localhost:8080/"
        },
        "id": "kqVKWq0-42vX",
        "outputId": "96f87967-6d1c-4128-f584-a74b5baeab17"
      },
      "execution_count": 22,
      "outputs": [
        {
          "output_type": "stream",
          "name": "stdout",
          "text": [
            "d>c\n",
            "True\n"
          ]
        }
      ]
    },
    {
      "cell_type": "code",
      "source": [
        "#And Statement\n",
        "\n",
        "if 10>5 and 8>4:\n",
        "  print(\"Both Statements are true\")\n",
        "else:\n",
        "    print(\"One of the statements is false/ both statements are not true\")"
      ],
      "metadata": {
        "colab": {
          "base_uri": "https://localhost:8080/"
        },
        "id": "egFWSJyA6ORA",
        "outputId": "20b9e76b-58ad-43f3-c93f-79916121f751"
      },
      "execution_count": 28,
      "outputs": [
        {
          "output_type": "stream",
          "name": "stdout",
          "text": [
            "Both Statements are true\n"
          ]
        }
      ]
    },
    {
      "cell_type": "code",
      "source": [
        "#Or Statement\n",
        "if 6<3 or 5>2:\n",
        "  print(\"True\")\n",
        "else:\n",
        "  print(\"False\")"
      ],
      "metadata": {
        "colab": {
          "base_uri": "https://localhost:8080/"
        },
        "id": "3un6zsJP67jX",
        "outputId": "fb4f7890-d809-4241-eb3c-6245bb36eed1"
      },
      "execution_count": 33,
      "outputs": [
        {
          "output_type": "stream",
          "name": "stdout",
          "text": [
            "True\n"
          ]
        }
      ]
    },
    {
      "cell_type": "code",
      "source": [
        "#Bitwise Operator ^(xor)\n",
        "e =4 #0100 binary\n",
        "f =2 #0010 binary\n",
        "\n"
      ],
      "metadata": {
        "id": "41KD4sOV7z0R"
      },
      "execution_count": 36,
      "outputs": []
    },
    {
      "cell_type": "code",
      "source": [
        "#Nested If\n",
        "\n",
        "g =41\n",
        "if g>10:\n",
        "  print(\"Number is above 10\")\n",
        "if g>20:\n",
        "  print(\"Number is above 20\")\n",
        "if g>30:\n",
        "  print(\"Number is above 30\")\n",
        "if g>40:\n",
        "  print(\"Number is above 40\")\n",
        "\n",
        "if g>51:\n",
        "  print(\"The number is below to 50\")\n",
        "else:\n",
        "  print(\"Number is less than 50\")"
      ],
      "metadata": {
        "colab": {
          "base_uri": "https://localhost:8080/"
        },
        "id": "4y3TEr0S9XOO",
        "outputId": "344de2b4-20a5-4c29-85c0-08d0e11da747"
      },
      "execution_count": 43,
      "outputs": [
        {
          "output_type": "stream",
          "name": "stdout",
          "text": [
            "Number is above 10\n",
            "Number is above 20\n",
            "Number is above 30\n",
            "Number is above 40\n",
            "Number is less than 50\n"
          ]
        }
      ]
    },
    {
      "cell_type": "code",
      "source": [
        "#Write a program that determines if the input age is qualified to vote or not.\n",
        "#The qualifying age is 18 years old and above.\n",
        "\n",
        "\n",
        "age = int(input(\"Enter age: \"))\n",
        "\n",
        "if age<=17:\n",
        "  print(\"You are not qualified to vote\")\n",
        "else:\n",
        "  print(\"You are qualified to vote\")"
      ],
      "metadata": {
        "colab": {
          "base_uri": "https://localhost:8080/"
        },
        "id": "HtNbkUdJ_cTn",
        "outputId": "ffcfb380-a38b-48b8-e7ac-d3de896bee65"
      },
      "execution_count": 17,
      "outputs": [
        {
          "output_type": "stream",
          "name": "stdout",
          "text": [
            "Enter age: 11\n",
            "You are not qualified to vote\n"
          ]
        }
      ]
    },
    {
      "cell_type": "code",
      "source": [
        "#Loop Statement\n",
        "week = [\"Sunday\", \"Monday\", \"Tuesday\", \"Wednesday\", \"Thursday\", \"Friday\", \"Saturday\"]\n",
        "\n",
        "for y in week:\n",
        "  print(y)\n",
        "  if y ==\"Thursday\":\n",
        "    break"
      ],
      "metadata": {
        "colab": {
          "base_uri": "https://localhost:8080/"
        },
        "id": "QZX7aKJS91YP",
        "outputId": "7788e649-732a-493e-ced6-99e5ff80ebb0"
      },
      "execution_count": 70,
      "outputs": [
        {
          "output_type": "stream",
          "name": "stdout",
          "text": [
            "Sunday\n",
            "Monday\n",
            "Tuesday\n",
            "Wednesday\n",
            "Thursday\n"
          ]
        }
      ]
    },
    {
      "cell_type": "code",
      "source": [
        "for y in week:\n",
        "  if y ==\"Thursday\":\n",
        "    break\n",
        "    print(y)\n",
        "for x in \"week\":\n",
        "  print(x)"
      ],
      "metadata": {
        "colab": {
          "base_uri": "https://localhost:8080/"
        },
        "id": "r88990FSExVQ",
        "outputId": "b44f47bc-6b13-4d52-aed1-4bf7bfac3471"
      },
      "execution_count": 77,
      "outputs": [
        {
          "output_type": "stream",
          "name": "stdout",
          "text": [
            "w\n",
            "e\n",
            "e\n",
            "k\n"
          ]
        }
      ]
    },
    {
      "cell_type": "code",
      "source": [
        "#Range()function\n",
        "\n",
        "for x in range(6):\n",
        "  print(x)\n",
        "print(\"\\n\")\n",
        "for x in range(2,6,):\n",
        "  print(x)"
      ],
      "metadata": {
        "colab": {
          "base_uri": "https://localhost:8080/"
        },
        "id": "HTJFV8i2FF6v",
        "outputId": "ea300b0f-9a40-4495-bb62-e91ad77b0fc0"
      },
      "execution_count": 86,
      "outputs": [
        {
          "output_type": "stream",
          "name": "stdout",
          "text": [
            "0\n",
            "1\n",
            "2\n",
            "3\n",
            "4\n",
            "5\n",
            "\n",
            "\n",
            "2\n",
            "5\n"
          ]
        }
      ]
    },
    {
      "cell_type": "code",
      "source": [
        "#Nested Loops\n",
        "adj =[\"red\", \"big\", \"tasty\"]\n",
        "fr =[\"apple\", \"banana\", \"cherry\"]\n",
        "\n",
        "for x in adj:\n",
        "  for y in fr:\n",
        "    print(x,y)  "
      ],
      "metadata": {
        "colab": {
          "base_uri": "https://localhost:8080/"
        },
        "id": "Iid3nomxGB_-",
        "outputId": "9abacb5a-6862-4bbf-f6e7-ae25177f870e"
      },
      "execution_count": 88,
      "outputs": [
        {
          "output_type": "stream",
          "name": "stdout",
          "text": [
            "red apple\n",
            "red banana\n",
            "red cherry\n",
            "big apple\n",
            "big banana\n",
            "big cherry\n",
            "tasty apple\n",
            "tasty banana\n",
            "tasty cherry\n"
          ]
        }
      ]
    },
    {
      "cell_type": "code",
      "source": [
        "#While loop\n",
        "i =1\n",
        "while i<6:\n",
        "  print(i)\n",
        "  i+=1 #i = i+1//count"
      ],
      "metadata": {
        "colab": {
          "base_uri": "https://localhost:8080/"
        },
        "id": "6agu_SgzHIK_",
        "outputId": "8c042501-0ade-4ed9-9c90-ef16ac4217a0"
      },
      "execution_count": 95,
      "outputs": [
        {
          "output_type": "stream",
          "name": "stdout",
          "text": [
            "1\n",
            "2\n",
            "3\n",
            "4\n",
            "5\n"
          ]
        }
      ]
    },
    {
      "cell_type": "code",
      "source": [
        "#While loop OUTPUT 3\n",
        "i =3\n",
        "while i<=3:\n",
        "  print(i)\n",
        "  if i==3:\n",
        "    break\n",
        "    print(i)"
      ],
      "metadata": {
        "colab": {
          "base_uri": "https://localhost:8080/"
        },
        "id": "vy5CKgiAHf2X",
        "outputId": "7d48fad3-72a9-4342-b695-b8a5673b3dc2"
      },
      "execution_count": 12,
      "outputs": [
        {
          "output_type": "stream",
          "name": "stdout",
          "text": [
            "3\n"
          ]
        }
      ]
    },
    {
      "cell_type": "code",
      "source": [
        "#Application 2\n",
        "num = float(input(\"Input a number: \"))\n",
        "if num > 0:\n",
        "   print(\"It is Positive number\")\n",
        "elif num == 0:\n",
        "   print(\"It is Zero\")\n",
        "else:\n",
        "   print(\"It is a Negative number\")"
      ],
      "metadata": {
        "colab": {
          "base_uri": "https://localhost:8080/"
        },
        "id": "zYFqujvyJM-X",
        "outputId": "162d557f-a12a-4e86-8d68-f685b3732d71"
      },
      "execution_count": 11,
      "outputs": [
        {
          "output_type": "stream",
          "name": "stdout",
          "text": [
            "Input a number: 0\n",
            "It is Zero\n"
          ]
        }
      ]
    }
  ]
}