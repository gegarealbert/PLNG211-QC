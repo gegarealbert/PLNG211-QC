{
  "nbformat": 4,
  "nbformat_minor": 0,
  "metadata": {
    "colab": {
      "provenance": [],
      "authorship_tag": "ABX9TyMlljsSpLE0XuVZxG6DyxOZ",
      "include_colab_link": true
    },
    "kernelspec": {
      "name": "python3",
      "display_name": "Python 3"
    },
    "language_info": {
      "name": "python"
    }
  },
  "cells": [
    {
      "cell_type": "markdown",
      "metadata": {
        "id": "view-in-github",
        "colab_type": "text"
      },
      "source": [
        "<a href=\"https://colab.research.google.com/github/gegarealbert/PLNG211-QC/blob/main/Python_Function.ipynb\" target=\"_parent\"><img src=\"https://colab.research.google.com/assets/colab-badge.svg\" alt=\"Open In Colab\"/></a>"
      ]
    },
    {
      "cell_type": "code",
      "execution_count": 18,
      "metadata": {
        "id": "HZkbbeDbIRhj",
        "colab": {
          "base_uri": "https://localhost:8080/"
        },
        "outputId": "d5efe0a5-6322-491b-d02b-37d4384be364"
      },
      "outputs": [
        {
          "output_type": "stream",
          "name": "stdout",
          "text": [
            "100\n",
            "37.78\n",
            "310.93\n"
          ]
        }
      ],
      "source": [
        "#Writing your own function/conversion\n",
        "def convert_to_celsius(fahrenheit):\n",
        "  return (fahrenheit -32) *5/9\n",
        "\n",
        "def convert_to_kelvin(fahrenheit):\n",
        " return ((fahrenheit -32) *5/9) + 273.15\n",
        "fahrenheit = int(input())\n",
        "print(round(convert_to_celsius(fahrenheit),2))\n",
        "print(round(convert_to_kelvin(fahrenheit),2))"
      ]
    },
    {
      "cell_type": "code",
      "source": [
        "def Name(fname):\n",
        "  pass"
      ],
      "metadata": {
        "id": "vUgCwhgOQztz"
      },
      "execution_count": null,
      "outputs": []
    },
    {
      "cell_type": "code",
      "source": [
        "def my_function(fname):\n",
        "  return(fname +\"Sayo\")\n",
        "  print(my_function (\" Maria\"))\n",
        "  print(my_function (\" Mam\"))\n",
        "  print(my_function (' Rizette'))"
      ],
      "metadata": {
        "id": "tu4CVWp_RhK6"
      },
      "execution_count": 22,
      "outputs": []
    },
    {
      "cell_type": "code",
      "source": [
        "#Return a value\n",
        "\n",
        "def myFunction(x):\n",
        "  return(5+x)\n",
        "\n",
        "  print(myFunction(4))\n",
        "  print(myFunction(5))\n",
        "  print(myFunction(6))"
      ],
      "metadata": {
        "id": "FinB8eAkSQrc"
      },
      "execution_count": 25,
      "outputs": []
    }
  ]
}